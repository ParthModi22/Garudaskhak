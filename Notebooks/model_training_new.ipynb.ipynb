{
 "cells": [
  {
   "cell_type": "code",
   "execution_count": null,
   "id": "816aeae7",
   "metadata": {},
   "outputs": [
    {
     "name": "stdout",
     "output_type": "stream",
     "text": [
      "['iq_samples']\n"
     ]
    }
   ],
   "source": [
    "import numpy as np\n",
    "\n",
    "\n",
    "data = np.load('drone_dataset\\\\background_20250414_142850.npz')\n",
    "\n",
    "\n",
    "print(data.files)"
   ]
  },
  {
   "cell_type": "code",
   "execution_count": 2,
   "id": "c5955246",
   "metadata": {},
   "outputs": [
    {
     "data": {
      "text/plain": [
       "500"
      ]
     },
     "execution_count": 2,
     "metadata": {},
     "output_type": "execute_result"
    }
   ],
   "source": [
    "iq_samples = data['iq_samples']\n",
    "iq_samples.shape[0]"
   ]
  },
  {
   "cell_type": "code",
   "execution_count": 3,
   "id": "73147f4a",
   "metadata": {},
   "outputs": [
    {
     "name": "stdout",
     "output_type": "stream",
     "text": [
      "[[ -4. +4.j  -4. -6.j  -4. -1.j ...   3. +1.j   2. -1.j   2. -9.j]\n",
      " [  0. -4.j   0. +7.j   3. +4.j ...   3. -3.j  -4. +3.j   4. +4.j]\n",
      " [ -4. +9.j   2. -3.j   5. -1.j ...  29. -7.j -11.+29.j -18.-20.j]\n",
      " [ 14. -4.j  -4. -9.j  24. +0.j ...  -2. -8.j   0. -3.j  -4. +0.j]\n",
      " [  3. +0.j   1. +2.j   4. -6.j ...   5. -5.j   1. -8.j   5. +3.j]]\n"
     ]
    }
   ],
   "source": [
    "print(iq_samples[:5])"
   ]
  },
  {
   "cell_type": "code",
   "execution_count": null,
   "id": "cb5383c1",
   "metadata": {},
   "outputs": [
    {
     "name": "stdout",
     "output_type": "stream",
     "text": [
      "['iq_samples']\n"
     ]
    }
   ],
   "source": [
    "import numpy as np\n",
    "\n",
    "data1 = np.load('drone_dataset\\\\drone_data_20250414_144053.npz')\n",
    "\n",
    "\n",
    "print(data1.files)"
   ]
  },
  {
   "cell_type": "code",
   "execution_count": 5,
   "id": "f822f4d1",
   "metadata": {},
   "outputs": [
    {
     "data": {
      "text/plain": [
       "500"
      ]
     },
     "execution_count": 5,
     "metadata": {},
     "output_type": "execute_result"
    }
   ],
   "source": [
    "iq_samples1 = data['iq_samples']\n",
    "iq_samples1.shape[0]"
   ]
  },
  {
   "cell_type": "code",
   "execution_count": 6,
   "id": "e1cd015f",
   "metadata": {},
   "outputs": [
    {
     "name": "stdout",
     "output_type": "stream",
     "text": [
      "[[ -4. +4.j  -4. -6.j  -4. -1.j ...   3. +1.j   2. -1.j   2. -9.j]\n",
      " [  0. -4.j   0. +7.j   3. +4.j ...   3. -3.j  -4. +3.j   4. +4.j]\n",
      " [ -4. +9.j   2. -3.j   5. -1.j ...  29. -7.j -11.+29.j -18.-20.j]\n",
      " [ 14. -4.j  -4. -9.j  24. +0.j ...  -2. -8.j   0. -3.j  -4. +0.j]\n",
      " [  3. +0.j   1. +2.j   4. -6.j ...   5. -5.j   1. -8.j   5. +3.j]]\n"
     ]
    }
   ],
   "source": [
    "print(iq_samples1[:5])"
   ]
  },
  {
   "cell_type": "markdown",
   "id": "e80a2ec2",
   "metadata": {},
   "source": [
    "## Training"
   ]
  },
  {
   "cell_type": "code",
   "execution_count": 1,
   "id": "3780e751",
   "metadata": {},
   "outputs": [],
   "source": [
    "import numpy as np\n",
    "import pandas as pd\n",
    "import pywt\n",
    "from scipy.signal import welch, hilbert\n",
    "from scipy.stats import skew, kurtosis, entropy, pearsonr\n",
    "from sklearn.naive_bayes import GaussianNB\n",
    "from sklearn.model_selection import train_test_split\n",
    "from sklearn.metrics import accuracy_score\n",
    "import matplotlib.pyplot as plt"
   ]
  },
  {
   "cell_type": "code",
   "execution_count": null,
   "id": "c42de463",
   "metadata": {},
   "outputs": [],
   "source": [
    "def spectral_entropy(signal, fs):\n",
    "    \"\"\"\n",
    "    Compute the spectral entropy of a signal.\n",
    "    Inspired by [2102.11894v1] where spectral entropy helps assess frequency randomness.\n",
    "    \"\"\"\n",
    "    f, Pxx = welch(signal, fs=fs)\n",
    "    Pxx_norm = Pxx / np.sum(Pxx) if np.sum(Pxx) > 0 else Pxx\n",
    "    return entropy(Pxx_norm)\n",
    "\n",
    "def median_frequency(signal, fs):\n",
    "    \"\"\"\n",
    "    Compute median frequency using the Welch power spectral density.\n",
    "    This feature is referenced in several RF fingerprinting studies.\n",
    "    \"\"\"\n",
    "    f, Pxx = welch(signal, fs=fs)\n",
    "    cumulative_power = np.cumsum(Pxx)\n",
    "    half_power = cumulative_power[-1] / 2.\n",
    "    median_freq = f[np.searchsorted(cumulative_power, half_power)]\n",
    "    return median_freq\n",
    "\n",
    "def extract_additional_features(iq_data, fs=1.0):\n",
    "    \"\"\"\n",
    "    Extract additional features from a 1D array of IQ samples.\n",
    "    Features included:\n",
    "      - Phase-domain: Mean and standard deviation of the phase.\n",
    "      - Frequency-domain: Median frequency and spectral entropy (via Welch PSD).\n",
    "      - Wavelet-domain: Energy of subbands via discrete wavelet transform.\n",
    "      - Hilbert transform: Envelope mean and standard deviation.\n",
    "    These features are motivated by several RF-based UAV detection studies\n",
    "    (e.g., [2003.02656v1], [2102.11894v1], [2104.06614v1], [2107.04908v1]).\n",
    "    \"\"\"\n",
    "    # Compute phase features\n",
    "    phases = np.angle(iq_data)\n",
    "    mean_phase = np.mean(phases)\n",
    "    std_phase = np.std(phases)\n",
    "    \n",
    "    # Frequency-domain features\n",
    "    mag = np.abs(iq_data)\n",
    "    med_freq = median_frequency(mag, fs)\n",
    "    spec_entropy = spectral_entropy(mag, fs)\n",
    "    \n",
    "    # Wavelet transform features: use a 3-level decomposition with the 'db4' wavelet\n",
    "    coeffs = pywt.wavedec(mag, 'db4', level=3)\n",
    "    wavelet_energies = [np.sum(c ** 2) for c in coeffs]\n",
    "    \n",
    "    # Hilbert transform: calculate envelope statistics\n",
    "    analytic_signal = hilbert(mag)\n",
    "    envelope = np.abs(analytic_signal)\n",
    "    mean_envelope = np.mean(envelope)\n",
    "    std_envelope = np.std(envelope)\n",
    "    \n",
    "    # Combine additional features\n",
    "    additional_feats = [mean_phase, std_phase, med_freq, spec_entropy] + wavelet_energies + [mean_envelope, std_envelope]\n",
    "    return additional_feats\n",
    "\n",
    "\n",
    "def extract_features(iq_data, fs=1.0):\n",
    "    \"\"\"\n",
    "    Extract a set of features from a 1D array of IQ samples (complex numbers).\n",
    "    Original features (inspired by several RF detection methods):\n",
    "      - Mean magnitude, standard deviation, skewness, kurtosis.\n",
    "      - Total energy and peak frequency from FFT.\n",
    "    \"\"\"\n",
    "    mag = np.abs(iq_data)\n",
    "    mean_mag = np.mean(mag)\n",
    "    std_mag = np.std(mag)\n",
    "    skew_mag = skew(mag)\n",
    "    kurtosis_mag = kurtosis(mag)\n",
    "    energy = np.sum(mag ** 2)\n",
    "    \n",
    "    N = len(iq_data)\n",
    "    fft_vals = np.fft.fft(iq_data)\n",
    "    fft_mag = np.abs(fft_vals)[:N // 2]\n",
    "    freqs = np.fft.fftfreq(N, d=1/fs)[:N // 2]\n",
    "    peak_freq = freqs[np.argmax(fft_mag)] if len(fft_mag) > 0 else 0.0\n",
    "    \n",
    "    return [mean_mag, std_mag, skew_mag, kurtosis_mag, energy, peak_freq]\n",
    "\n",
    "def combine_features(iq_data, fs=1.0):\n",
    "    \"\"\"\n",
    "    Combine the original feature set with additional features.\n",
    "    \"\"\"\n",
    "    base_feats = extract_features(iq_data, fs)\n",
    "    extra_feats = extract_additional_features(iq_data, fs)\n",
    "    return base_feats + extra_feats\n"
   ]
  },
  {
   "cell_type": "code",
   "execution_count": 3,
   "id": "5c870ada",
   "metadata": {},
   "outputs": [],
   "source": [
    "def convert_npz_to_npy(npz_path, key='iq_samples'):\n",
    "    npy_path = os.path.splitext(npz_path)[0] + '.npy'\n",
    "    if not os.path.exists(npy_path):\n",
    "        with np.load(npz_path) as data:\n",
    "            print(f\"Converting {npz_path}: found keys {data.files}\")\n",
    "            arr = data[key]\n",
    "            np.save(npy_path, arr)\n",
    "            print(f\"Saved uncompressed data as {npy_path}\")\n",
    "    else:\n",
    "        print(f\"{npy_path} already exists.\")\n",
    "    return npy_path\n",
    "\n",
    "# ===== Process dataset using memory mapping and chunking =====\n",
    "def process_dataset_memmap(npz_path, label, key='iq_samples', fs=1.0, chunk_size=10000):\n",
    "    npy_path = convert_npz_to_npy(npz_path, key)\n",
    "    iq_array = np.load(npy_path, mmap_mode='r')\n",
    "    total = iq_array.shape[0]\n",
    "    features_list = []\n",
    "    labels_list = []\n",
    "    print(f\"Processing {npy_path} in chunks of {chunk_size}. Total samples: {total}\")\n",
    "    for start in range(0, total, chunk_size):\n",
    "        end = min(total, start + chunk_size)\n",
    "        chunk = iq_array[start:end]\n",
    "        for sample in chunk:\n",
    "            feats = combine_features(sample, fs)\n",
    "            features_list.append(feats)\n",
    "            labels_list.append(label)\n",
    "        print(f\"Processed samples {start} to {end}\")\n",
    "    return np.array(features_list), np.array(labels_list)\n",
    "\n",
    "\n"
   ]
  },
  {
   "cell_type": "code",
   "execution_count": null,
   "id": "dffa58be",
   "metadata": {},
   "outputs": [],
   "source": [
    "\n",
    "background_path = r\"drone_dataset\\background_20250414_142850.npz\"\n",
    "\n",
    "drone_path = r\"drone_dataset\\drone_data_20250414_144053.npz\""
   ]
  },
  {
   "cell_type": "code",
   "execution_count": null,
   "id": "02411aba",
   "metadata": {},
   "outputs": [
    {
     "name": "stdout",
     "output_type": "stream",
     "text": [
      "drone_dataset\\background_20250414_142850.npy already exists.\n",
      "Processing drone_dataset\\background_20250414_142850.npy in chunks of 10000. Total samples: 500\n",
      "Processed samples 0 to 500\n",
      "drone_dataset\\drone_data_20250414_144053.npy already exists.\n",
      "Processing drone_dataset\\drone_data_20250414_144053.npy in chunks of 10000. Total samples: 500\n",
      "Processed samples 0 to 500\n"
     ]
    }
   ],
   "source": [
    "\n",
    "import os\n",
    "X_bg, y_bg = process_dataset_memmap(background_path, label=0, fs=1.0, chunk_size=10000)\n",
    "X_drone, y_drone = process_dataset_memmap(drone_path, label=1, fs=1.0, chunk_size=10000)"
   ]
  },
  {
   "cell_type": "code",
   "execution_count": null,
   "id": "7bb8933d",
   "metadata": {},
   "outputs": [],
   "source": [
    "\n",
    "X = np.vstack((X_bg, X_drone))\n",
    "y = np.concatenate((y_bg, y_drone))"
   ]
  },
  {
   "cell_type": "code",
   "execution_count": 7,
   "id": "826969bc",
   "metadata": {},
   "outputs": [],
   "source": [
    "base_feature_names = ['mean_mag', 'std_mag', 'skew_mag', 'kurtosis_mag', 'energy', 'peak_freq']\n",
    "extra_feature_names = [\n",
    "    'mean_phase', 'std_phase', 'median_freq', 'spectral_entropy',\n",
    "    'wavelet_energy_lev0', 'wavelet_energy_lev1', 'wavelet_energy_lev2', 'wavelet_energy_lev3',\n",
    "    'mean_envelope', 'std_envelope'\n",
    "]\n",
    "all_feature_names = base_feature_names + extra_feature_names\n"
   ]
  },
  {
   "cell_type": "code",
   "execution_count": 8,
   "id": "dfd0a311",
   "metadata": {},
   "outputs": [
    {
     "name": "stdout",
     "output_type": "stream",
     "text": [
      "Extracted features (first 5 rows):\n",
      "    mean_mag    std_mag   skew_mag  kurtosis_mag        energy  peak_freq  \\\n",
      "0  10.793200  40.916374   7.769851     59.894256  1.432514e+09   0.105443   \n",
      "1   7.367333  27.923982  11.923593    142.182651  6.672211e+08   0.102604   \n",
      "2   5.234389   4.418577   5.680158     47.389508  3.753812e+07   0.299583   \n",
      "3   6.008942   5.618207   5.227243     38.814094  5.413730e+07   0.000310   \n",
      "4   6.878847  19.342600  11.334175    132.028617  3.371638e+08   0.105429   \n",
      "\n",
      "   mean_phase  std_phase  median_freq  spectral_entropy  wavelet_energy_lev0  \\\n",
      "0    0.146657   1.810022     0.007812          3.008323         1.427295e+09   \n",
      "1    0.146195   1.805832     0.011719          3.611070         6.625287e+08   \n",
      "2    0.148308   1.805615     0.234375          4.841252         3.295407e+07   \n",
      "3    0.142620   1.805944     0.210938          4.823992         4.868746e+07   \n",
      "4    0.149117   1.804690     0.136719          4.267752         3.324488e+08   \n",
      "\n",
      "   wavelet_energy_lev1  wavelet_energy_lev2  wavelet_energy_lev3  \\\n",
      "0        864602.297173         1.641809e+06         2.714253e+06   \n",
      "1        703050.864408         1.393257e+06         2.597144e+06   \n",
      "2        682612.800122         1.340754e+06         2.569668e+06   \n",
      "3        903072.970467         1.625745e+06         2.933587e+06   \n",
      "4        696408.743018         1.377110e+06         2.642837e+06   \n",
      "\n",
      "   mean_envelope  std_envelope  label  \n",
      "0      22.531130     54.379599      0  \n",
      "1      13.378272     37.878714      0  \n",
      "2       6.312111      5.157880      0  \n",
      "3       7.451262      6.611700      0  \n",
      "4      11.103642     25.928749      0  \n"
     ]
    }
   ],
   "source": [
    "df = pd.DataFrame(X, columns=all_feature_names)\n",
    "df['label'] = y\n",
    "\n",
    "print(\"Extracted features (first 5 rows):\")\n",
    "print(df.head())"
   ]
  },
  {
   "cell_type": "code",
   "execution_count": 9,
   "id": "41475492",
   "metadata": {},
   "outputs": [],
   "source": [
    "X_train, X_test, y_train, y_test = train_test_split(df[all_feature_names], df['label'], test_size=0.2, random_state=42)"
   ]
  },
  {
   "cell_type": "code",
   "execution_count": null,
   "id": "9e343048",
   "metadata": {},
   "outputs": [
    {
     "name": "stdout",
     "output_type": "stream",
     "text": [
      "\n",
      "Drone Classification Accuracy: 0.6750\n"
     ]
    }
   ],
   "source": [
    "gnb = GaussianNB()\n",
    "gnb.fit(X_train, y_train)\n",
    "\n",
    "\n",
    "y_pred = gnb.predict(X_test)\n",
    "acc = accuracy_score(y_test, y_pred)\n",
    "print(f\"\\nDrone Classification Accuracy: {acc:.4f}\")"
   ]
  },
  {
   "cell_type": "code",
   "execution_count": 11,
   "id": "3d65ff1c",
   "metadata": {},
   "outputs": [
    {
     "name": "stdout",
     "output_type": "stream",
     "text": [
      "\n",
      "Feature correlation with label (Pearson correlation):\n",
      "  mean_mag: correlation = 0.2383 (p-value = 2.248e-14)\n",
      "  std_mag: correlation = 0.3525 (p-value = 1.25e-30)\n",
      "  skew_mag: correlation = -0.1507 (p-value = 1.688e-06)\n",
      "  kurtosis_mag: correlation = -0.0822 (p-value = 0.009317)\n",
      "  energy: correlation = 0.2220 (p-value = 1.251e-12)\n",
      "  peak_freq: correlation = 0.5768 (p-value = 9.126e-90)\n",
      "  mean_phase: correlation = 0.6580 (p-value = 4.539e-125)\n",
      "  std_phase: correlation = -0.3425 (p-value = 6.697e-29)\n",
      "  median_freq: correlation = -0.0142 (p-value = 0.6533)\n",
      "  spectral_entropy: correlation = -0.1976 (p-value = 2.908e-10)\n",
      "  wavelet_energy_lev0: correlation = 0.2151 (p-value = 6.268e-12)\n",
      "  wavelet_energy_lev1: correlation = 0.2501 (p-value = 1.007e-15)\n",
      "  wavelet_energy_lev2: correlation = 0.2492 (p-value = 1.261e-15)\n",
      "  wavelet_energy_lev3: correlation = 0.2433 (p-value = 6.137e-15)\n",
      "  mean_envelope: correlation = 0.3188 (p-value = 4.601e-25)\n",
      "  std_envelope: correlation = 0.3550 (p-value = 4.609e-31)\n"
     ]
    }
   ],
   "source": [
    "print(\"\\nFeature correlation with label (Pearson correlation):\")\n",
    "correlations = {}\n",
    "for feat in all_feature_names:\n",
    "    corr_coef, pval = pearsonr(df[feat], df['label'])\n",
    "    correlations[feat] = corr_coef\n",
    "    print(f\"  {feat}: correlation = {corr_coef:.4f} (p-value = {pval:.4g})\")\n"
   ]
  },
  {
   "cell_type": "code",
   "execution_count": 12,
   "id": "3d6beaa7",
   "metadata": {},
   "outputs": [
    {
     "data": {
      "image/png": "[encoded data removed]",
      "text/plain": [
       "<Figure size 800x400 with 1 Axes>"
      ]
     },
     "metadata": {},
     "output_type": "display_data"
    }
   ],
   "source": [
    "plt.figure(figsize=(8, 4))\n",
    "plt.bar(correlations.keys(), correlations.values())\n",
    "plt.xlabel('Feature')\n",
    "plt.ylabel('Correlation coefficient')\n",
    "plt.title('Feature Correlation with Drone Presence Label')\n",
    "plt.show()"
   ]
  },
  {
   "cell_type": "code",
   "execution_count": 13,
   "id": "84219b60",
   "metadata": {},
   "outputs": [],
   "source": [
    "from sklearn.ensemble import RandomForestClassifier"
   ]
  },
  {
   "cell_type": "code",
   "execution_count": 14,
   "id": "20b59740",
   "metadata": {},
   "outputs": [
    {
     "name": "stdout",
     "output_type": "stream",
     "text": [
      "\n",
      "Drone Classification Accuracy (Random Forest): 0.9600\n"
     ]
    }
   ],
   "source": [
    "rf_clf = RandomForestClassifier(n_estimators=100, random_state=42)\n",
    "rf_clf.fit(X_train, y_train)\n",
    "y_pred = rf_clf.predict(X_test)\n",
    "acc = accuracy_score(y_test, y_pred)\n",
    "print(f\"\\nDrone Classification Accuracy (Random Forest): {acc:.4f}\")"
   ]
  },
  {
   "cell_type": "code",
   "execution_count": null,
   "id": "79c10ef0",
   "metadata": {},
   "outputs": [],
   "source": [
    "import pickle\n",
    "\n",
    "\n",
    "with open('random_forest_model_drone_detection.pkl', 'wb') as file:\n",
    "    pickle.dump(rf_clf, file)\n"
   ]
  },
  {
   "cell_type": "code",
   "execution_count": null,
   "id": "e79d1f62",
   "metadata": {},
   "outputs": [
    {
     "data": {
      "text/plain": [
       "['random_forest_model_drone_detection.joblib']"
      ]
     },
     "execution_count": 18,
     "metadata": {},
     "output_type": "execute_result"
    }
   ],
   "source": [
    "import joblib\n",
    "\n",
    "joblib.dump(rf_clf, 'random_forest_model_drone_detection.joblib')\n"
   ]
  },
  {
   "cell_type": "code",
   "execution_count": 26,
   "id": "edd481b4",
   "metadata": {},
   "outputs": [],
   "source": [
    "from xgboost import XGBClassifier\n",
    "from sklearn.metrics import classification_report, confusion_matrix, ConfusionMatrixDisplay"
   ]
  },
  {
   "cell_type": "code",
   "execution_count": 21,
   "id": "99595250",
   "metadata": {},
   "outputs": [
    {
     "name": "stderr",
     "output_type": "stream",
     "text": [
      "c:\\Users\\Lenovo\\Desktop\\GD-drone\\gddrone\\Lib\\site-packages\\xgboost\\training.py:183: UserWarning: [11:07:04] WARNING: C:\\actions-runner\\_work\\xgboost\\xgboost\\src\\learner.cc:738: \n",
      "Parameters: { \"use_label_encoder\" } are not used.\n",
      "\n",
      "  bst.update(dtrain, iteration=i, fobj=obj)\n"
     ]
    },
    {
     "data": {
      "text/html": [
       "<style>#sk-container-id-1 {\n",
       "  /* Definition of color scheme common for light and dark mode */\n",
       "  --sklearn-color-text: #000;\n",
       "  --sklearn-color-text-muted: #666;\n",
       "  --sklearn-color-line: gray;\n",
       "  /* Definition of color scheme for unfitted estimators */\n",
       "  --sklearn-color-unfitted-level-0: #fff5e6;\n",
       "  --sklearn-color-unfitted-level-1: #f6e4d2;\n",
       "  --sklearn-color-unfitted-level-2: #ffe0b3;\n",
       "  --sklearn-color-unfitted-level-3: chocolate;\n",
       "  /* Definition of color scheme for fitted estimators */\n",
       "  --sklearn-color-fitted-level-0: #f0f8ff;\n",
       "  --sklearn-color-fitted-level-1: #d4ebff;\n",
       "  --sklearn-color-fitted-level-2: #b3dbfd;\n",
       "  --sklearn-color-fitted-level-3: cornflowerblue;\n",
       "\n",
       "  /* Specific color for light theme */\n",
       "  --sklearn-color-text-on-default-background: var(--sg-text-color, var(--theme-code-foreground, var(--jp-content-font-color1, black)));\n",
       "  --sklearn-color-background: var(--sg-background-color, var(--theme-background, var(--jp-layout-color0, white)));\n",
       "  --sklearn-color-border-box: var(--sg-text-color, var(--theme-code-foreground, var(--jp-content-font-color1, black)));\n",
       "  --sklearn-color-icon: #696969;\n",
       "\n",
       "  @media (prefers-color-scheme: dark) {\n",
       "    /* Redefinition of color scheme for dark theme */\n",
       "    --sklearn-color-text-on-default-background: var(--sg-text-color, var(--theme-code-foreground, var(--jp-content-font-color1, white)));\n",
       "    --sklearn-color-background: var(--sg-background-color, var(--theme-background, var(--jp-layout-color0, #111)));\n",
       "    --sklearn-color-border-box: var(--sg-text-color, var(--theme-code-foreground, var(--jp-content-font-color1, white)));\n",
       "    --sklearn-color-icon: #878787;\n",
       "  }\n",
       "}\n",
       "\n",
       "#sk-container-id-1 {\n",
       "  color: var(--sklearn-color-text);\n",
       "}\n",
       "\n",
       "#sk-container-id-1 pre {\n",
       "  padding: 0;\n",
       "}\n",
       "\n",
       "#sk-container-id-1 input.sk-hidden--visually {\n",
       "  border: 0;\n",
       "  clip: rect(1px 1px 1px 1px);\n",
       "  clip: rect(1px, 1px, 1px, 1px);\n",
       "  height: 1px;\n",
       "  margin: -1px;\n",
       "  overflow: hidden;\n",
       "  padding: 0;\n",
       "  position: absolute;\n",
       "  width: 1px;\n",
       "}\n",
       "\n",
       "#sk-container-id-1 div.sk-dashed-wrapped {\n",
       "  border: 1px dashed var(--sklearn-color-line);\n",
       "  margin: 0 0.4em 0.5em 0.4em;\n",
       "  box-sizing: border-box;\n",
       "  padding-bottom: 0.4em;\n",
       "  background-color: var(--sklearn-color-background);\n",
       "}\n",
       "\n",
       "#sk-container-id-1 div.sk-container {\n",
       "  /* jupyter's `normalize.less` sets `[hidden] { display: none; }`\n",
       "     but bootstrap.min.css set `[hidden] { display: none !important; }`\n",
       "     so we also need the `!important` here to be able to override the\n",
       "     default hidden behavior on the sphinx rendered scikit-learn.org.\n",
       "     See: https://github.com/scikit-learn/scikit-learn/issues/21755 */\n",
       "  display: inline-block !important;\n",
       "  position: relative;\n",
       "}\n",
       "\n",
       "#sk-container-id-1 div.sk-text-repr-fallback {\n",
       "  display: none;\n",
       "}\n",
       "\n",
       "div.sk-parallel-item,\n",
       "div.sk-serial,\n",
       "div.sk-item {\n",
       "  /* draw centered vertical line to link estimators */\n",
       "  background-image: linear-gradient(var(--sklearn-color-text-on-default-background), var(--sklearn-color-text-on-default-background));\n",
       "  background-size: 2px 100%;\n",
       "  background-repeat: no-repeat;\n",
       "  background-position: center center;\n",
       "}\n",
       "\n",
       "/* Parallel-specific style estimator block */\n",
       "\n",
       "#sk-container-id-1 div.sk-parallel-item::after {\n",
       "  content: \"\";\n",
       "  width: 100%;\n",
       "  border-bottom: 2px solid var(--sklearn-color-text-on-default-background);\n",
       "  flex-grow: 1;\n",
       "}\n",
       "\n",
       "#sk-container-id-1 div.sk-parallel {\n",
       "  display: flex;\n",
       "  align-items: stretch;\n",
       "  justify-content: center;\n",
       "  background-color: var(--sklearn-color-background);\n",
       "  position: relative;\n",
       "}\n",
       "\n",
       "#sk-container-id-1 div.sk-parallel-item {\n",
       "  display: flex;\n",
       "  flex-direction: column;\n",
       "}\n",
       "\n",
       "#sk-container-id-1 div.sk-parallel-item:first-child::after {\n",
       "  align-self: flex-end;\n",
       "  width: 50%;\n",
       "}\n",
       "\n",
       "#sk-container-id-1 div.sk-parallel-item:last-child::after {\n",
       "  align-self: flex-start;\n",
       "  width: 50%;\n",
       "}\n",
       "\n",
       "#sk-container-id-1 div.sk-parallel-item:only-child::after {\n",
       "  width: 0;\n",
       "}\n",
       "\n",
       "/* Serial-specific style estimator block */\n",
       "\n",
       "#sk-container-id-1 div.sk-serial {\n",
       "  display: flex;\n",
       "  flex-direction: column;\n",
       "  align-items: center;\n",
       "  background-color: var(--sklearn-color-background);\n",
       "  padding-right: 1em;\n",
       "  padding-left: 1em;\n",
       "}\n",
       "\n",
       "\n",
       "/* Toggleable style: style used for estimator/Pipeline/ColumnTransformer box that is\n",
       "clickable and can be expanded/collapsed.\n",
       "- Pipeline and ColumnTransformer use this feature and define the default style\n",
       "- Estimators will overwrite some part of the style using the `sk-estimator` class\n",
       "*/\n",
       "\n",
       "/* Pipeline and ColumnTransformer style (default) */\n",
       "\n",
       "#sk-container-id-1 div.sk-toggleable {\n",
       "  /* Default theme specific background. It is overwritten whether we have a\n",
       "  specific estimator or a Pipeline/ColumnTransformer */\n",
       "  background-color: var(--sklearn-color-background);\n",
       "}\n",
       "\n",
       "/* Toggleable label */\n",
       "#sk-container-id-1 label.sk-toggleable__label {\n",
       "  cursor: pointer;\n",
       "  display: flex;\n",
       "  width: 100%;\n",
       "  margin-bottom: 0;\n",
       "  padding: 0.5em;\n",
       "  box-sizing: border-box;\n",
       "  text-align: center;\n",
       "  align-items: start;\n",
       "  justify-content: space-between;\n",
       "  gap: 0.5em;\n",
       "}\n",
       "\n",
       "#sk-container-id-1 label.sk-toggleable__label .caption {\n",
       "  font-size: 0.6rem;\n",
       "  font-weight: lighter;\n",
       "  color: var(--sklearn-color-text-muted);\n",
       "}\n",
       "\n",
       "#sk-container-id-1 label.sk-toggleable__label-arrow:before {\n",
       "  /* Arrow on the left of the label */\n",
       "  content: \"▸\";\n",
       "  float: left;\n",
       "  margin-right: 0.25em;\n",
       "  color: var(--sklearn-color-icon);\n",
       "}\n",
       "\n",
       "#sk-container-id-1 label.sk-toggleable__label-arrow:hover:before {\n",
       "  color: var(--sklearn-color-text);\n",
       "}\n",
       "\n",
       "/* Toggleable content - dropdown */\n",
       "\n",
       "#sk-container-id-1 div.sk-toggleable__content {\n",
       "  max-height: 0;\n",
       "  max-width: 0;\n",
       "  overflow: hidden;\n",
       "  text-align: left;\n",
       "  /* unfitted */\n",
       "  background-color: var(--sklearn-color-unfitted-level-0);\n",
       "}\n",
       "\n",
       "#sk-container-id-1 div.sk-toggleable__content.fitted {\n",
       "  /* fitted */\n",
       "  background-color: var(--sklearn-color-fitted-level-0);\n",
       "}\n",
       "\n",
       "#sk-container-id-1 div.sk-toggleable__content pre {\n",
       "  margin: 0.2em;\n",
       "  border-radius: 0.25em;\n",
       "  color: var(--sklearn-color-text);\n",
       "  /* unfitted */\n",
       "  background-color: var(--sklearn-color-unfitted-level-0);\n",
       "}\n",
       "\n",
       "#sk-container-id-1 div.sk-toggleable__content.fitted pre {\n",
       "  /* unfitted */\n",
       "  background-color: var(--sklearn-color-fitted-level-0);\n",
       "}\n",
       "\n",
       "#sk-container-id-1 input.sk-toggleable__control:checked~div.sk-toggleable__content {\n",
       "  /* Expand drop-down */\n",
       "  max-height: 200px;\n",
       "  max-width: 100%;\n",
       "  overflow: auto;\n",
       "}\n",
       "\n",
       "#sk-container-id-1 input.sk-toggleable__control:checked~label.sk-toggleable__label-arrow:before {\n",
       "  content: \"▾\";\n",
       "}\n",
       "\n",
       "/* Pipeline/ColumnTransformer-specific style */\n",
       "\n",
       "#sk-container-id-1 div.sk-label input.sk-toggleable__control:checked~label.sk-toggleable__label {\n",
       "  color: var(--sklearn-color-text);\n",
       "  background-color: var(--sklearn-color-unfitted-level-2);\n",
       "}\n",
       "\n",
       "#sk-container-id-1 div.sk-label.fitted input.sk-toggleable__control:checked~label.sk-toggleable__label {\n",
       "  background-color: var(--sklearn-color-fitted-level-2);\n",
       "}\n",
       "\n",
       "/* Estimator-specific style */\n",
       "\n",
       "/* Colorize estimator box */\n",
       "#sk-container-id-1 div.sk-estimator input.sk-toggleable__control:checked~label.sk-toggleable__label {\n",
       "  /* unfitted */\n",
       "  background-color: var(--sklearn-color-unfitted-level-2);\n",
       "}\n",
       "\n",
       "#sk-container-id-1 div.sk-estimator.fitted input.sk-toggleable__control:checked~label.sk-toggleable__label {\n",
       "  /* fitted */\n",
       "  background-color: var(--sklearn-color-fitted-level-2);\n",
       "}\n",
       "\n",
       "#sk-container-id-1 div.sk-label label.sk-toggleable__label,\n",
       "#sk-container-id-1 div.sk-label label {\n",
       "  /* The background is the default theme color */\n",
       "  color: var(--sklearn-color-text-on-default-background);\n",
       "}\n",
       "\n",
       "/* On hover, darken the color of the background */\n",
       "#sk-container-id-1 div.sk-label:hover label.sk-toggleable__label {\n",
       "  color: var(--sklearn-color-text);\n",
       "  background-color: var(--sklearn-color-unfitted-level-2);\n",
       "}\n",
       "\n",
       "/* Label box, darken color on hover, fitted */\n",
       "#sk-container-id-1 div.sk-label.fitted:hover label.sk-toggleable__label.fitted {\n",
       "  color: var(--sklearn-color-text);\n",
       "  background-color: var(--sklearn-color-fitted-level-2);\n",
       "}\n",
       "\n",
       "/* Estimator label */\n",
       "\n",
       "#sk-container-id-1 div.sk-label label {\n",
       "  font-family: monospace;\n",
       "  font-weight: bold;\n",
       "  display: inline-block;\n",
       "  line-height: 1.2em;\n",
       "}\n",
       "\n",
       "#sk-container-id-1 div.sk-label-container {\n",
       "  text-align: center;\n",
       "}\n",
       "\n",
       "/* Estimator-specific */\n",
       "#sk-container-id-1 div.sk-estimator {\n",
       "  font-family: monospace;\n",
       "  border: 1px dotted var(--sklearn-color-border-box);\n",
       "  border-radius: 0.25em;\n",
       "  box-sizing: border-box;\n",
       "  margin-bottom: 0.5em;\n",
       "  /* unfitted */\n",
       "  background-color: var(--sklearn-color-unfitted-level-0);\n",
       "}\n",
       "\n",
       "#sk-container-id-1 div.sk-estimator.fitted {\n",
       "  /* fitted */\n",
       "  background-color: var(--sklearn-color-fitted-level-0);\n",
       "}\n",
       "\n",
       "/* on hover */\n",
       "#sk-container-id-1 div.sk-estimator:hover {\n",
       "  /* unfitted */\n",
       "  background-color: var(--sklearn-color-unfitted-level-2);\n",
       "}\n",
       "\n",
       "#sk-container-id-1 div.sk-estimator.fitted:hover {\n",
       "  /* fitted */\n",
       "  background-color: var(--sklearn-color-fitted-level-2);\n",
       "}\n",
       "\n",
       "/* Specification for estimator info (e.g. \"i\" and \"?\") */\n",
       "\n",
       "/* Common style for \"i\" and \"?\" */\n",
       "\n",
       ".sk-estimator-doc-link,\n",
       "a:link.sk-estimator-doc-link,\n",
       "a:visited.sk-estimator-doc-link {\n",
       "  float: right;\n",
       "  font-size: smaller;\n",
       "  line-height: 1em;\n",
       "  font-family: monospace;\n",
       "  background-color: var(--sklearn-color-background);\n",
       "  border-radius: 1em;\n",
       "  height: 1em;\n",
       "  width: 1em;\n",
       "  text-decoration: none !important;\n",
       "  margin-left: 0.5em;\n",
       "  text-align: center;\n",
       "  /* unfitted */\n",
       "  border: var(--sklearn-color-unfitted-level-1) 1pt solid;\n",
       "  color: var(--sklearn-color-unfitted-level-1);\n",
       "}\n",
       "\n",
       ".sk-estimator-doc-link.fitted,\n",
       "a:link.sk-estimator-doc-link.fitted,\n",
       "a:visited.sk-estimator-doc-link.fitted {\n",
       "  /* fitted */\n",
       "  border: var(--sklearn-color-fitted-level-1) 1pt solid;\n",
       "  color: var(--sklearn-color-fitted-level-1);\n",
       "}\n",
       "\n",
       "/* On hover */\n",
       "div.sk-estimator:hover .sk-estimator-doc-link:hover,\n",
       ".sk-estimator-doc-link:hover,\n",
       "div.sk-label-container:hover .sk-estimator-doc-link:hover,\n",
       ".sk-estimator-doc-link:hover {\n",
       "  /* unfitted */\n",
       "  background-color: var(--sklearn-color-unfitted-level-3);\n",
       "  color: var(--sklearn-color-background);\n",
       "  text-decoration: none;\n",
       "}\n",
       "\n",
       "div.sk-estimator.fitted:hover .sk-estimator-doc-link.fitted:hover,\n",
       ".sk-estimator-doc-link.fitted:hover,\n",
       "div.sk-label-container:hover .sk-estimator-doc-link.fitted:hover,\n",
       ".sk-estimator-doc-link.fitted:hover {\n",
       "  /* fitted */\n",
       "  background-color: var(--sklearn-color-fitted-level-3);\n",
       "  color: var(--sklearn-color-background);\n",
       "  text-decoration: none;\n",
       "}\n",
       "\n",
       "/* Span, style for the box shown on hovering the info icon */\n",
       ".sk-estimator-doc-link span {\n",
       "  display: none;\n",
       "  z-index: 9999;\n",
       "  position: relative;\n",
       "  font-weight: normal;\n",
       "  right: .2ex;\n",
       "  padding: .5ex;\n",
       "  margin: .5ex;\n",
       "  width: min-content;\n",
       "  min-width: 20ex;\n",
       "  max-width: 50ex;\n",
       "  color: var(--sklearn-color-text);\n",
       "  box-shadow: 2pt 2pt 4pt #999;\n",
       "  /* unfitted */\n",
       "  background: var(--sklearn-color-unfitted-level-0);\n",
       "  border: .5pt solid var(--sklearn-color-unfitted-level-3);\n",
       "}\n",
       "\n",
       ".sk-estimator-doc-link.fitted span {\n",
       "  /* fitted */\n",
       "  background: var(--sklearn-color-fitted-level-0);\n",
       "  border: var(--sklearn-color-fitted-level-3);\n",
       "}\n",
       "\n",
       ".sk-estimator-doc-link:hover span {\n",
       "  display: block;\n",
       "}\n",
       "\n",
       "/* \"?\"-specific style due to the `<a>` HTML tag */\n",
       "\n",
       "#sk-container-id-1 a.estimator_doc_link {\n",
       "  float: right;\n",
       "  font-size: 1rem;\n",
       "  line-height: 1em;\n",
       "  font-family: monospace;\n",
       "  background-color: var(--sklearn-color-background);\n",
       "  border-radius: 1rem;\n",
       "  height: 1rem;\n",
       "  width: 1rem;\n",
       "  text-decoration: none;\n",
       "  /* unfitted */\n",
       "  color: var(--sklearn-color-unfitted-level-1);\n",
       "  border: var(--sklearn-color-unfitted-level-1) 1pt solid;\n",
       "}\n",
       "\n",
       "#sk-container-id-1 a.estimator_doc_link.fitted {\n",
       "  /* fitted */\n",
       "  border: var(--sklearn-color-fitted-level-1) 1pt solid;\n",
       "  color: var(--sklearn-color-fitted-level-1);\n",
       "}\n",
       "\n",
       "/* On hover */\n",
       "#sk-container-id-1 a.estimator_doc_link:hover {\n",
       "  /* unfitted */\n",
       "  background-color: var(--sklearn-color-unfitted-level-3);\n",
       "  color: var(--sklearn-color-background);\n",
       "  text-decoration: none;\n",
       "}\n",
       "\n",
       "#sk-container-id-1 a.estimator_doc_link.fitted:hover {\n",
       "  /* fitted */\n",
       "  background-color: var(--sklearn-color-fitted-level-3);\n",
       "}\n",
       "</style><div id=\"sk-container-id-1\" class=\"sk-top-container\"><div class=\"sk-text-repr-fallback\"><pre>XGBClassifier(base_score=None, booster=None, callbacks=None,\n",
       "              colsample_bylevel=None, colsample_bynode=None,\n",
       "              colsample_bytree=None, device=None, early_stopping_rounds=None,\n",
       "              enable_categorical=False, eval_metric=&#x27;logloss&#x27;,\n",
       "              feature_types=None, feature_weights=None, gamma=None,\n",
       "              grow_policy=None, importance_type=None,\n",
       "              interaction_constraints=None, learning_rate=0.1, max_bin=None,\n",
       "              max_cat_threshold=None, max_cat_to_onehot=None,\n",
       "              max_delta_step=None, max_depth=6, max_leaves=None,\n",
       "              min_child_weight=None, missing=nan, monotone_constraints=None,\n",
       "              multi_strategy=None, n_estimators=100, n_jobs=None,\n",
       "              num_parallel_tree=None, ...)</pre><b>In a Jupyter environment, please rerun this cell to show the HTML representation or trust the notebook. <br />On GitHub, the HTML representation is unable to render, please try loading this page with nbviewer.org.</b></div><div class=\"sk-container\" hidden><div class=\"sk-item\"><div class=\"sk-estimator fitted sk-toggleable\"><input class=\"sk-toggleable__control sk-hidden--visually\" id=\"sk-estimator-id-1\" type=\"checkbox\" checked><label for=\"sk-estimator-id-1\" class=\"sk-toggleable__label fitted sk-toggleable__label-arrow\"><div><div>XGBClassifier</div></div><div><a class=\"sk-estimator-doc-link fitted\" rel=\"noreferrer\" target=\"_blank\" href=\"https://xgboost.readthedocs.io/en/release_3.0.0/python/python_api.html#xgboost.XGBClassifier\">?<span>Documentation for XGBClassifier</span></a><span class=\"sk-estimator-doc-link fitted\">i<span>Fitted</span></span></div></label><div class=\"sk-toggleable__content fitted\"><pre>XGBClassifier(base_score=None, booster=None, callbacks=None,\n",
       "              colsample_bylevel=None, colsample_bynode=None,\n",
       "              colsample_bytree=None, device=None, early_stopping_rounds=None,\n",
       "              enable_categorical=False, eval_metric=&#x27;logloss&#x27;,\n",
       "              feature_types=None, feature_weights=None, gamma=None,\n",
       "              grow_policy=None, importance_type=None,\n",
       "              interaction_constraints=None, learning_rate=0.1, max_bin=None,\n",
       "              max_cat_threshold=None, max_cat_to_onehot=None,\n",
       "              max_delta_step=None, max_depth=6, max_leaves=None,\n",
       "              min_child_weight=None, missing=nan, monotone_constraints=None,\n",
       "              multi_strategy=None, n_estimators=100, n_jobs=None,\n",
       "              num_parallel_tree=None, ...)</pre></div> </div></div></div></div>"
      ],
      "text/plain": [
       "XGBClassifier(base_score=None, booster=None, callbacks=None,\n",
       "              colsample_bylevel=None, colsample_bynode=None,\n",
       "              colsample_bytree=None, device=None, early_stopping_rounds=None,\n",
       "              enable_categorical=False, eval_metric='logloss',\n",
       "              feature_types=None, feature_weights=None, gamma=None,\n",
       "              grow_policy=None, importance_type=None,\n",
       "              interaction_constraints=None, learning_rate=0.1, max_bin=None,\n",
       "              max_cat_threshold=None, max_cat_to_onehot=None,\n",
       "              max_delta_step=None, max_depth=6, max_leaves=None,\n",
       "              min_child_weight=None, missing=nan, monotone_constraints=None,\n",
       "              multi_strategy=None, n_estimators=100, n_jobs=None,\n",
       "              num_parallel_tree=None, ...)"
      ]
     },
     "execution_count": 21,
     "metadata": {},
     "output_type": "execute_result"
    }
   ],
   "source": [
    "xgb_clf = XGBClassifier(\n",
    "    n_estimators=100,\n",
    "    max_depth=6,\n",
    "    learning_rate=0.1,\n",
    "    use_label_encoder=False,\n",
    "    eval_metric='logloss',\n",
    "    random_state=42\n",
    ")\n",
    "xgb_clf.fit(X_train, y_train)\n"
   ]
  },
  {
   "cell_type": "code",
   "execution_count": 22,
   "id": "81932e78",
   "metadata": {},
   "outputs": [
    {
     "name": "stdout",
     "output_type": "stream",
     "text": [
      "\n",
      "Drone Classification Accuracy (XGBoost): 0.9650\n"
     ]
    }
   ],
   "source": [
    "y_pred = xgb_clf.predict(X_test)\n",
    "acc = accuracy_score(y_test, y_pred)\n",
    "print(f\"\\nDrone Classification Accuracy (XGBoost): {acc:.4f}\")"
   ]
  },
  {
   "cell_type": "code",
   "execution_count": null,
   "id": "760ffcba",
   "metadata": {},
   "outputs": [
    {
     "data": {
      "image/png": "[encoded data removed]",
      "text/plain": [
       "<Figure size 640x480 with 2 Axes>"
      ]
     },
     "metadata": {},
     "output_type": "display_data"
    },
    {
     "name": "stdout",
     "output_type": "stream",
     "text": [
      "Classification Report:\n",
      "               precision    recall  f1-score   support\n",
      "\n",
      "  Background       0.95      0.98      0.96        96\n",
      "       Drone       0.98      0.95      0.97       104\n",
      "\n",
      "    accuracy                           0.96       200\n",
      "   macro avg       0.96      0.97      0.96       200\n",
      "weighted avg       0.97      0.96      0.97       200\n",
      "\n"
     ]
    }
   ],
   "source": [
    "cm = confusion_matrix(y_test, y_pred)\n",
    "\n",
    "\n",
    "disp = ConfusionMatrixDisplay(confusion_matrix=cm, display_labels=['Background', 'Drone'])\n",
    "disp.plot(cmap=plt.cm.Blues)\n",
    "plt.title('Confusion Matrix')\n",
    "plt.show()\n",
    "\n",
    "\n",
    "report = classification_report(y_test, y_pred, target_names=['Background', 'Drone'])\n",
    "print(\"Classification Report:\\n\", report)"
   ]
  },
  {
   "cell_type": "code",
   "execution_count": 23,
   "id": "ef172f84",
   "metadata": {},
   "outputs": [],
   "source": [
    "\n",
    "\n",
    "\n",
    "with open('xgboost_model_drone_detection.pkl', 'wb') as file:\n",
    "    pickle.dump(xgb_clf, file)"
   ]
  },
  {
   "cell_type": "code",
   "execution_count": 24,
   "id": "41d53088",
   "metadata": {},
   "outputs": [
    {
     "data": {
      "text/plain": [
       "['xgboost_model_drone_detection.joblib']"
      ]
     },
     "execution_count": 24,
     "metadata": {},
     "output_type": "execute_result"
    }
   ],
   "source": [
    "\n",
    "\n",
    "joblib.dump(xgb_clf, 'xgboost_model_drone_detection.joblib')"
   ]
  }
 ],
 "metadata": {
  "kernelspec": {
   "display_name": "gddrone",
   "language": "python",
   "name": "python3"
  },
  "language_info": {
   "codemirror_mode": {
    "name": "ipython",
    "version": 3
   },
   "file_extension": ".py",
   "mimetype": "text/x-python",
   "name": "python",
   "nbconvert_exporter": "python",
   "pygments_lexer": "ipython3",
   "version": "3.11.5"
  }
 },
 "nbformat": 4,
 "nbformat_minor": 5
}
