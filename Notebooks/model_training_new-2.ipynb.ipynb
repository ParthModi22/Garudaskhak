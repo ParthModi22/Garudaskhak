{
 "cells": [
  {
   "cell_type": "code",
   "execution_count": 1,
   "id": "3780e751",
   "metadata": {},
   "outputs": [],
   "source": [
    "import numpy as np\n",
    "import pandas as pd\n",
    "import pywt\n",
    "from scipy.signal import welch, hilbert\n",
    "from scipy.stats import skew, kurtosis, entropy, pearsonr\n",
    "from sklearn.naive_bayes import GaussianNB\n",
    "from sklearn.model_selection import train_test_split\n",
    "from sklearn.metrics import accuracy_score\n",
    "import matplotlib.pyplot as plt"
   ]
  },
  {
   "cell_type": "code",
   "execution_count": 2,
   "id": "0a6a6206",
   "metadata": {},
   "outputs": [],
   "source": [
    "CENTER_FREQ = 2.4e9  # 2.4 GHz center frequency for drone signals\n",
    "SAMPLE_RATE = 40e6   # Match training data: 40 MHz\n",
    "RX_GAIN = 50         # Receiver gain\n",
    "TX_GAIN = -10        # Transmitter gain\n",
    "BUFFER_SIZE = int(40e6 * 0.02)  # 20ms of samples at 40MHz\n",
    "FFT_SIZE = 1024 * 4  # FFT size for spectral analysis"
   ]
  },
  {
   "cell_type": "markdown",
   "id": "b9f1b51d",
   "metadata": {},
   "source": [
    "## Feature"
   ]
  },
  {
   "cell_type": "code",
   "execution_count": 3,
   "id": "2d4e442f",
   "metadata": {},
   "outputs": [],
   "source": [
    "def spectral_entropy(signal, fs=SAMPLE_RATE):\n",
    "    \"\"\"\n",
    "    Compute the spectral entropy of a signal.\n",
    "    Inspired by [2102.11894v1] where spectral entropy helps assess frequency randomness.\n",
    "    \"\"\"\n",
    "    # Apply window to reduce spectral leakage\n",
    "    win = np.blackman(len(signal))\n",
    "    signal_win = signal * win\n",
    "    \n",
    "    # Use same parameters as in the main code for consistency\n",
    "    f, Pxx = welch(signal_win, fs=fs, nperseg=min(1024, len(signal)))\n",
    "    \n",
    "    # Normalize and compute entropy\n",
    "    Pxx_norm = Pxx / np.sum(Pxx) if np.sum(Pxx) > 0 else Pxx\n",
    "    return entropy(Pxx_norm)"
   ]
  },
  {
   "cell_type": "code",
   "execution_count": 4,
   "id": "e5fc5e5d",
   "metadata": {},
   "outputs": [],
   "source": [
    "\n",
    "def median_frequency(signal, fs=SAMPLE_RATE):\n",
    "    \"\"\"\n",
    "    Compute median frequency using the Welch power spectral density.\n",
    "    This feature is referenced in several RF fingerprinting studies.\n",
    "    \"\"\"\n",
    "    # Apply window to reduce spectral leakage\n",
    "    win = np.blackman(len(signal))\n",
    "    signal_win = signal * win\n",
    "    \n",
    "    f, Pxx = welch(signal_win, fs=fs, nperseg=min(1024, len(signal)))\n",
    "    cumulative_power = np.cumsum(Pxx)\n",
    "    \n",
    "    # Handle edge case of all zeros\n",
    "    if cumulative_power[-1] == 0:\n",
    "        return 0.0\n",
    "        \n",
    "    half_power = cumulative_power[-1] / 2.0\n",
    "    median_freq = f[np.searchsorted(cumulative_power, half_power)]\n",
    "    return median_freq"
   ]
  },
  {
   "cell_type": "code",
   "execution_count": 5,
   "id": "2b1877b9",
   "metadata": {},
   "outputs": [],
   "source": [
    "def extract_additional_features(signal_data, fs=SAMPLE_RATE):\n",
    "    \"\"\"\n",
    "    Extract additional features from complex IQ samples.\n",
    "    Features included:\n",
    "      - Phase-domain: Mean and standard deviation of the phase.\n",
    "      - Frequency-domain: Median frequency and spectral entropy.\n",
    "      - Wavelet-domain: Energy of subbands via discrete wavelet transform.\n",
    "      - Hilbert transform: Envelope statistics.\n",
    "    \n",
    "    Adapted for PlutoSDR data format.\n",
    "    \"\"\"\n",
    "    # Ensure adequate signal length for feature extraction\n",
    "    if len(signal_data) < 128:\n",
    "        # Pad if too short\n",
    "        padding = np.zeros(128 - len(signal_data), dtype=complex)\n",
    "        signal_data = np.concatenate([signal_data, padding])\n",
    "    \n",
    "    # Compute magnitude and phase\n",
    "    mag = np.abs(signal_data)\n",
    "    phases = np.angle(signal_data)\n",
    "    \n",
    "    # Phase features\n",
    "    mean_phase = np.mean(phases)\n",
    "    std_phase = np.std(phases)\n",
    "    \n",
    "    # Frequency-domain features - using magnitude spectrum\n",
    "    med_freq = median_frequency(mag, fs)\n",
    "    spec_entropy = spectral_entropy(mag, fs)\n",
    "    \n",
    "    # Wavelet transform features\n",
    "    # Use only first 1024 samples for wavelet to manage computational load\n",
    "    analysis_length = min(1024, len(mag))\n",
    "    # Ensure the length is divisible by 2^level for the wavelet transform\n",
    "    analysis_length = analysis_length - (analysis_length % 8)  # For a 3-level decomposition\n",
    "    \n",
    "    coeffs = pywt.wavedec(mag[:analysis_length], 'db4', level=3)\n",
    "    wavelet_energies = [np.sum(c ** 2) / len(c) if len(c) > 0 else 0.0 for c in coeffs]\n",
    "    \n",
    "    # Hilbert transform for envelope analysis\n",
    "    analytic_signal = hilbert(mag)\n",
    "    envelope = np.abs(analytic_signal)\n",
    "    mean_envelope = np.mean(envelope)\n",
    "    std_envelope = np.std(envelope)\n",
    "    \n",
    "    # Additional drone-specific features\n",
    "    # Energy in specific bands (common for drone control frequencies)\n",
    "    fft_vals = np.fft.fft(signal_data)\n",
    "    fft_mag = np.abs(fft_vals)\n",
    "    freq_axis = np.fft.fftfreq(len(signal_data), d=1/fs)\n",
    "    \n",
    "    # Check energy in typical drone control frequency bands\n",
    "    # Control frequencies often found at 50-250kHz offsets\n",
    "    control_bands = [(50e3, 100e3), (100e3, 150e3), (150e3, 200e3), (200e3, 250e3)]\n",
    "    band_energies = []\n",
    "    \n",
    "    for low, high in control_bands:\n",
    "        # Convert frequency range to indices\n",
    "        low_idx = np.argmin(np.abs(freq_axis - low))\n",
    "        high_idx = np.argmin(np.abs(freq_axis - high))\n",
    "        # Calculate energy in band\n",
    "        band_energy = np.sum(fft_mag[low_idx:high_idx+1]**2) / (high_idx - low_idx + 1)\n",
    "        band_energies.append(band_energy)\n",
    "    \n",
    "    # Combine all features\n",
    "    additional_feats = [\n",
    "        mean_phase, std_phase, \n",
    "        med_freq, spec_entropy, \n",
    "        *wavelet_energies, \n",
    "        mean_envelope, std_envelope,\n",
    "        *band_energies\n",
    "    ]\n",
    "    \n",
    "    return additional_feats"
   ]
  },
  {
   "cell_type": "code",
   "execution_count": 6,
   "id": "0eb52c21",
   "metadata": {},
   "outputs": [],
   "source": [
    "def extract_features(signal_data, fs=SAMPLE_RATE, n_fft=FFT_SIZE):\n",
    "    \"\"\"\n",
    "    Extract features for drone detection, adapted for the PlutoSDR data.\n",
    "    This replaces the original extract_features function in the script.\n",
    "    \n",
    "    Parameters:\n",
    "    - signal_data: Complex IQ samples captured from the SDR\n",
    "    - fs: Sampling frequency (default based on SDR configuration)\n",
    "    - n_fft: FFT size for spectral analysis\n",
    "    \n",
    "    Returns:\n",
    "    - Feature vector for classification\n",
    "    \"\"\"\n",
    "    # Ensure signal_data is the right size for feature extraction\n",
    "    if len(signal_data) > n_fft:\n",
    "        # If signal is too large, take the first n_fft samples\n",
    "        signal_data = signal_data[:n_fft]\n",
    "    elif len(signal_data) < n_fft:\n",
    "        # If signal is too small, pad with zeros\n",
    "        padding = np.zeros(n_fft - len(signal_data), dtype=complex)\n",
    "        signal_data = np.concatenate([signal_data, padding])\n",
    "    \n",
    "    # Calculate magnitude and basic statistics\n",
    "    mag = np.abs(signal_data)\n",
    "    mean_mag = np.mean(mag)\n",
    "    std_mag = np.std(mag)\n",
    "    skew_mag = skew(mag)\n",
    "    kurtosis_mag = kurtosis(mag)\n",
    "    \n",
    "    # Calculate signal energy (normalized by length)\n",
    "    energy = np.sum(mag ** 2) / len(mag)\n",
    "    \n",
    "    # Apply window function for better spectral estimation\n",
    "    win = np.blackman(len(signal_data))\n",
    "    windowed_data = signal_data * win\n",
    "    \n",
    "    # Compute FFT and get peak frequency\n",
    "    fft_vals = np.fft.fft(windowed_data, n=n_fft)\n",
    "    fft_mag = np.abs(fft_vals)[:n_fft // 2]\n",
    "    freqs = np.fft.fftfreq(n_fft, d=1/fs)[:n_fft // 2]\n",
    "    peak_freq = freqs[np.argmax(fft_mag)] if len(fft_mag) > 0 else 0.0\n",
    "    \n",
    "    # Get magnitude spectrum as used in the original code\n",
    "    # This provides a base feature set similar to the original implementation\n",
    "    dft = np.fft.fft(mag, n=n_fft)\n",
    "    magnitude_spectrum = np.abs(dft[:n_fft//2])\n",
    "    \n",
    "    # Normalize magnitude spectrum\n",
    "    if np.max(magnitude_spectrum) > 0:\n",
    "        magnitude_spectrum = magnitude_spectrum / np.max(magnitude_spectrum)\n",
    "    \n",
    "    # Calculate spectral flatness (Wiener entropy)\n",
    "    # Good for distinguishing between noise-like and tonal signals\n",
    "    if np.prod(fft_mag) > 0 and np.mean(fft_mag) > 0:\n",
    "        spectral_flatness = np.exp(np.mean(np.log(fft_mag + 1e-10))) / np.mean(fft_mag)\n",
    "    else:\n",
    "        spectral_flatness = 0\n",
    "    \n",
    "    # Basic vector of features\n",
    "    basic_features = [mean_mag, std_mag, skew_mag, kurtosis_mag, energy, peak_freq, spectral_flatness]\n",
    "    \n",
    "    # Get additional features for better classification\n",
    "    additional_feats = extract_additional_features(signal_data, fs)\n",
    "    \n",
    "    # Combine all features\n",
    "    return np.concatenate([basic_features, additional_feats])"
   ]
  },
  {
   "cell_type": "markdown",
   "id": "2fa15ab4",
   "metadata": {},
   "source": [
    "## Process data"
   ]
  },
  {
   "cell_type": "code",
   "execution_count": null,
   "id": "c42de463",
   "metadata": {},
   "outputs": [],
   "source": [
    "\n",
    "\n",
    "def process_dataset(data_path, label, fs=SAMPLE_RATE, chunk_size=100):\n",
    "    \"\"\"\n",
    "    Process a dataset of SDR captures and extract features.\n",
    "    \n",
    "    Parameters:\n",
    "    - data_path: Path to the .npz file containing SDR data\n",
    "    - label: Class label (0 for background, 1 for drone)\n",
    "    - fs: Sampling frequency\n",
    "    - chunk_size: Number of samples to process at once for memory efficiency\n",
    "    \n",
    "    Returns:\n",
    "    - X: Features array\n",
    "    - y: Labels array\n",
    "    \"\"\"\n",
    "    try:\n",
    "     \n",
    "        data = np.load(data_path)\n",
    "        \n",
    "       \n",
    "        print(f\"Available keys in {data_path}: {data.files}\")\n",
    "        \n",
    "       \n",
    "        key = 'iq_samples' if 'iq_samples' in data.files else data.files[0]\n",
    "        iq_samples = data[key]\n",
    "        \n",
    "       \n",
    "        print(f\"Data shape: {iq_samples.shape}\")\n",
    "        \n",
    "     \n",
    "        features_list = []\n",
    "        labels_list = []\n",
    "        \n",
    "   \n",
    "        total_samples = iq_samples.shape[0]\n",
    "        for start_idx in range(0, total_samples, chunk_size):\n",
    "            end_idx = min(total_samples, start_idx + chunk_size)\n",
    "            print(f\"Processing samples {start_idx} to {end_idx} of {total_samples}\")\n",
    "            \n",
    "            # Process each sample in the chunk\n",
    "            for i in range(start_idx, end_idx):\n",
    "                sample = iq_samples[i]\n",
    "                features = extract_features(sample, fs=fs)\n",
    "                features_list.append(features)\n",
    "                labels_list.append(label)\n",
    "            \n",
    "        return np.array(features_list), np.array(labels_list)\n",
    "    \n",
    "    except Exception as e:\n",
    "        print(f\"Error processing dataset {data_path}: {e}\")\n",
    "        import traceback\n",
    "        traceback.print_exc()\n",
    "        return np.array([]), np.array([])\n",
    "\n"
   ]
  },
  {
   "cell_type": "code",
   "execution_count": 8,
   "id": "dffa58be",
   "metadata": {},
   "outputs": [],
   "source": [
    "\n",
    "background_path = r\"drone_dataset\\\\background_20250414_142850.npz\"\n",
    "\n",
    "drone_path = r\"drone_dataset\\\\drone_data_20250414_144053.npz\""
   ]
  },
  {
   "cell_type": "code",
   "execution_count": 9,
   "id": "2b1d22c9",
   "metadata": {},
   "outputs": [
    {
     "name": "stdout",
     "output_type": "stream",
     "text": [
      "Processing background dataset: drone_dataset\\\\background_20250414_142850.npz\n",
      "Available keys in drone_dataset\\\\background_20250414_142850.npz: ['iq_samples']\n",
      "Data shape: (500, 800000)\n",
      "Processing samples 0 to 100 of 500\n"
     ]
    },
    {
     "name": "stderr",
     "output_type": "stream",
     "text": [
      "c:\\Users\\Lenovo\\Desktop\\GD-drone\\gddrone\\Lib\\site-packages\\numpy\\_core\\fromnumeric.py:86: RuntimeWarning: overflow encountered in reduce\n",
      "  return ufunc.reduce(obj, axis, dtype, out, **passkwargs)\n"
     ]
    },
    {
     "name": "stdout",
     "output_type": "stream",
     "text": [
      "Processing samples 100 to 200 of 500\n",
      "Processing samples 200 to 300 of 500\n",
      "Processing samples 300 to 400 of 500\n",
      "Processing samples 400 to 500 of 500\n",
      "Processing drone dataset: drone_dataset\\\\drone_data_20250414_144053.npz\n",
      "Available keys in drone_dataset\\\\drone_data_20250414_144053.npz: ['iq_samples']\n",
      "Data shape: (500, 800000)\n",
      "Processing samples 0 to 100 of 500\n",
      "Processing samples 100 to 200 of 500\n",
      "Processing samples 200 to 300 of 500\n",
      "Processing samples 300 to 400 of 500\n",
      "Processing samples 400 to 500 of 500\n"
     ]
    }
   ],
   "source": [
    "\n",
    "\n",
    "\n",
    "print(f\"Processing background dataset: {background_path}\")\n",
    "X_bg, y_bg = process_dataset(background_path, label=0, fs=SAMPLE_RATE)\n",
    "\n",
    "print(f\"Processing drone dataset: {drone_path}\")\n",
    "X_drone, y_drone = process_dataset(drone_path, label=1, fs=SAMPLE_RATE)"
   ]
  },
  {
   "cell_type": "code",
   "execution_count": 13,
   "id": "d0ca8087",
   "metadata": {},
   "outputs": [],
   "source": [
    "X = np.vstack([X_bg, X_drone])\n",
    "y = np.concatenate([y_bg, y_drone])"
   ]
  },
  {
   "cell_type": "code",
   "execution_count": 22,
   "id": "90f7e0a1",
   "metadata": {},
   "outputs": [
    {
     "data": {
      "text/plain": [
       "1000"
      ]
     },
     "execution_count": 22,
     "metadata": {},
     "output_type": "execute_result"
    }
   ],
   "source": [
    "y.size"
   ]
  },
  {
   "cell_type": "code",
   "execution_count": 24,
   "id": "b49aa695",
   "metadata": {},
   "outputs": [
    {
     "name": "stdout",
     "output_type": "stream",
     "text": [
      "Class distribution:\n",
      " 0    500\n",
      "1    500\n",
      "Name: count, dtype: int64\n"
     ]
    }
   ],
   "source": [
    "import pandas as pd\n",
    "\n",
    "print(\"Class distribution:\\n\", pd.Series(y).value_counts())\n"
   ]
  },
  {
   "cell_type": "markdown",
   "id": "fee8abba",
   "metadata": {},
   "source": [
    "## Training "
   ]
  },
  {
   "cell_type": "code",
   "execution_count": 16,
   "id": "c1608f3e",
   "metadata": {},
   "outputs": [],
   "source": [
    "import xgboost as xgb\n",
    "from sklearn.metrics import classification_report, confusion_matrix, ConfusionMatrixDisplay\n",
    "import os"
   ]
  },
  {
   "cell_type": "code",
   "execution_count": null,
   "id": "20944514",
   "metadata": {},
   "outputs": [
    {
     "name": "stdout",
     "output_type": "stream",
     "text": [
      "Combined dataset shape: (1000, 21)\n",
      "Class distribution: (array([0, 1]), array([500, 500]))\n",
      "Training model...\n",
      "Model saved to models/xgboost_model_drone_detection.joblib\n"
     ]
    },
    {
     "name": "stderr",
     "output_type": "stream",
     "text": [
      "c:\\Users\\Lenovo\\Desktop\\GD-drone\\gddrone\\Lib\\site-packages\\xgboost\\sklearn.py:1028: UserWarning: [12:26:29] WARNING: C:\\actions-runner\\_work\\xgboost\\xgboost\\src\\c_api\\c_api.cc:1427: Saving model in the UBJSON format as default.  You can use file extension: `json`, `ubj` or `deprecated` to choose between formats.\n",
      "  self.get_booster().save_model(fname)\n"
     ]
    }
   ],
   "source": [
    "if len(X_bg) > 0 and len(X_drone) > 0:\n",
    "   \n",
    "    \n",
    "    print(f\"Combined dataset shape: {X.shape}\")\n",
    "    print(f\"Class distribution: {np.unique(y, return_counts=True)}\")\n",
    "    \n",
    "    \n",
    "    from sklearn.model_selection import train_test_split\n",
    "    X_train, X_test, y_train, y_test = train_test_split(X, y, test_size=0.2, random_state=42)\n",
    "    \n",
    "   \n",
    "    model = xgb.XGBClassifier(\n",
    "        n_estimators=100,\n",
    "        learning_rate=0.1,\n",
    "        max_depth=6,\n",
    "        subsample=0.8,\n",
    "        colsample_bytree=0.8\n",
    "    )\n",
    "    \n",
    "    print(\"Training model...\")\n",
    "    model.fit(X_train, y_train)\n",
    "    \n",
    "  \n",
    "    os.makedirs('models', exist_ok=True)\n",
    "    model_path = 'models/xgboost_model_drone_detection.joblib'\n",
    "    model.save_model(model_path)\n",
    "    print(f\"Model saved to {model_path}\")\n",
    "    \n",
    "   \n",
    "        \n",
    "else:\n",
    "    print(\"Error: One or both datasets could not be processed\")"
   ]
  },
  {
   "cell_type": "markdown",
   "id": "0d8663d4",
   "metadata": {},
   "source": [
    "## Eval"
   ]
  },
  {
   "cell_type": "code",
   "execution_count": null,
   "id": "b928a201",
   "metadata": {},
   "outputs": [
    {
     "name": "stdout",
     "output_type": "stream",
     "text": [
      "\n",
      "Model Evaluation:\n",
      "Accuracy: 0.8800\n",
      "Precision: 0.9082\n",
      "Recall: 0.8558\n",
      "F1 Score: 0.8812\n",
      "Confusion Matrix:\n",
      "[[87  9]\n",
      " [15 89]]\n",
      "\n",
      "Top 10 most important features:\n",
      "Feature_0: 0.1864\n",
      "Feature_15: 0.1778\n",
      "Feature_11: 0.0997\n",
      "Feature_3: 0.0966\n",
      "Feature_16: 0.0394\n",
      "Feature_6: 0.0365\n",
      "Feature_1: 0.0357\n",
      "Feature_2: 0.0331\n",
      "Feature_5: 0.0323\n",
      "Feature_14: 0.0314\n"
     ]
    }
   ],
   "source": [
    "\n",
    "from sklearn.metrics import accuracy_score, precision_score, recall_score, f1_score, confusion_matrix\n",
    "y_pred = model.predict(X_test)\n",
    "    \n",
    "print(\"\\nModel Evaluation:\")\n",
    "print(f\"Accuracy: {accuracy_score(y_test, y_pred):.4f}\")\n",
    "print(f\"Precision: {precision_score(y_test, y_pred):.4f}\")\n",
    "print(f\"Recall: {recall_score(y_test, y_pred):.4f}\")\n",
    "print(f\"F1 Score: {f1_score(y_test, y_pred):.4f}\")\n",
    "print(\"Confusion Matrix:\")\n",
    "print(confusion_matrix(y_test, y_pred))\n",
    "    \n",
    "\n",
    "feature_names = [f\"Feature_{i}\" for i in range(X.shape[1])]\n",
    "importance = model.feature_importances_\n",
    "    \n",
    "\n",
    "indices = np.argsort(importance)[::-1]\n",
    "print(\"\\nTop 10 most important features:\")\n",
    "for i in range(min(10, X.shape[1])):\n",
    "    print(f\"{feature_names[indices[i]]}: {importance[indices[i]]:.4f}\")"
   ]
  },
  {
   "cell_type": "markdown",
   "id": "9dbf4afe",
   "metadata": {},
   "source": [
    "# prediction on saved csv"
   ]
  },
  {
   "cell_type": "code",
   "execution_count": 19,
   "id": "e5cfbf18",
   "metadata": {},
   "outputs": [
    {
     "name": "stdout",
     "output_type": "stream",
     "text": [
      "Prediction: No Drone Detected (Probability: 0.1913)\n"
     ]
    }
   ],
   "source": [
    "import pandas as pd\n",
    "import numpy as np\n",
    "import joblib\n",
    "import pywt\n",
    "from scipy.signal import welch, hilbert\n",
    "from scipy.stats import skew, kurtosis, entropy\n",
    "\n",
    "# Load your saved model\n",
    "model_path = 'xgboost_model_drone_detection.joblib'\n",
    "model = joblib.load(model_path)\n",
    "\n",
    "# Function to process CSV data into complex IQ samples\n",
    "def process_csv_data(csv_file):\n",
    "    # Read the CSV file\n",
    "    df = pd.read_csv(csv_file)\n",
    "    \n",
    "    # Create complex IQ samples\n",
    "    i_values = df['I'].values\n",
    "    q_values = df['Q'].values\n",
    "    iq_samples = i_values + 1j * q_values\n",
    "    \n",
    "    return iq_samples\n",
    "\n",
    "# Using the same feature extraction functions as in your training code\n",
    "def spectral_entropy(signal, fs):\n",
    "    f, Pxx = welch(signal, fs=fs)\n",
    "    Pxx_norm = Pxx / np.sum(Pxx) if np.sum(Pxx) > 0 else Pxx\n",
    "    return entropy(Pxx_norm)\n",
    "\n",
    "def median_frequency(signal, fs):\n",
    "    f, Pxx = welch(signal, fs=fs)\n",
    "    cumulative_power = np.cumsum(Pxx)\n",
    "    half_power = cumulative_power[-1] / 2.\n",
    "    median_freq = f[np.searchsorted(cumulative_power, half_power)]\n",
    "    return median_freq\n",
    "\n",
    "def extract_features(iq_data, fs=1.0):\n",
    "    mag = np.abs(iq_data)\n",
    "    mean_mag = np.mean(mag)\n",
    "    std_mag = np.std(mag)\n",
    "    skew_mag = skew(mag)\n",
    "    kurtosis_mag = kurtosis(mag)\n",
    "    energy = np.sum(mag ** 2)\n",
    "    \n",
    "    N = len(iq_data)\n",
    "    fft_vals = np.fft.fft(iq_data)\n",
    "    fft_mag = np.abs(fft_vals)[:N // 2]\n",
    "    freqs = np.fft.fftfreq(N, d=1/fs)[:N // 2]\n",
    "    peak_freq = freqs[np.argmax(fft_mag)] if len(fft_mag) > 0 else 0.0\n",
    "    \n",
    "    return [mean_mag, std_mag, skew_mag, kurtosis_mag, energy, peak_freq]\n",
    "\n",
    "def extract_additional_features(iq_data, fs=1.0):\n",
    "    # Compute phase features\n",
    "    phases = np.angle(iq_data)\n",
    "    mean_phase = np.mean(phases)\n",
    "    std_phase = np.std(phases)\n",
    "    \n",
    "    # Frequency-domain features\n",
    "    mag = np.abs(iq_data)\n",
    "    med_freq = median_frequency(mag, fs)\n",
    "    spec_entropy = spectral_entropy(mag, fs)\n",
    "    \n",
    "    # Wavelet transform features\n",
    "    coeffs = pywt.wavedec(mag, 'db4', level=3)\n",
    "    wavelet_energies = [np.sum(c ** 2) for c in coeffs]\n",
    "    \n",
    "    # Hilbert transform features\n",
    "    analytic_signal = hilbert(mag)\n",
    "    envelope = np.abs(analytic_signal)\n",
    "    mean_envelope = np.mean(envelope)\n",
    "    std_envelope = np.std(envelope)\n",
    "    \n",
    "    additional_feats = [mean_phase, std_phase, med_freq, spec_entropy] + wavelet_energies + [mean_envelope, std_envelope]\n",
    "    return additional_feats\n",
    "\n",
    "def combine_features(iq_data, fs=1.0):\n",
    "    base_feats = extract_features(iq_data, fs)\n",
    "    extra_feats = extract_additional_features(iq_data, fs)\n",
    "    return base_feats + extra_feats\n",
    "\n",
    "# Main function to process CSV and make prediction\n",
    "def predict_drone_from_csv(csv_file, threshold=0.5):\n",
    "    # Process the CSV data\n",
    "    iq_samples = process_csv_data(csv_file)\n",
    "    \n",
    "    # Extract features\n",
    "    features = combine_features(iq_samples)\n",
    "    \n",
    "    # Reshape features for model input\n",
    "    features_array = np.array(features).reshape(1, -1)\n",
    "    \n",
    "    # Get prediction probability\n",
    "    probability = model.predict_proba(features_array)[0][1]\n",
    "    \n",
    "    # Make prediction\n",
    "    prediction = 1 if probability > threshold else 0\n",
    "    \n",
    "    # Return result\n",
    "    return {\n",
    "        'probability': probability,\n",
    "        'prediction': prediction,\n",
    "        'result': 'Drone Detected' if prediction == 1 else 'No Drone Detected'\n",
    "    }\n",
    "\n",
    "# Example usage\n",
    "csv_file = 'Data\\\\pluto_sdr_iq_data_20250320_122718.csv'  \n",
    "result = predict_drone_from_csv(csv_file)\n",
    "print(f\"Prediction: {result['result']} (Probability: {result['probability']:.4f})\")"
   ]
  },
  {
   "cell_type": "code",
   "execution_count": 20,
   "id": "760ffcba",
   "metadata": {},
   "outputs": [
    {
     "data": {
      "image/png": "[encoded data removed]",
      "text/plain": [
       "<Figure size 640x480 with 2 Axes>"
      ]
     },
     "metadata": {},
     "output_type": "display_data"
    },
    {
     "name": "stdout",
     "output_type": "stream",
     "text": [
      "Classification Report:\n",
      "               precision    recall  f1-score   support\n",
      "\n",
      "  Background       0.85      0.91      0.88        96\n",
      "       Drone       0.91      0.86      0.88       104\n",
      "\n",
      "    accuracy                           0.88       200\n",
      "   macro avg       0.88      0.88      0.88       200\n",
      "weighted avg       0.88      0.88      0.88       200\n",
      "\n"
     ]
    }
   ],
   "source": [
    "cm = confusion_matrix(y_test, y_pred)\n",
    "\n",
    "\n",
    "disp = ConfusionMatrixDisplay(confusion_matrix=cm, display_labels=['Background', 'Drone'])\n",
    "disp.plot(cmap=plt.cm.Blues)\n",
    "plt.title('Confusion Matrix')\n",
    "plt.show()\n",
    "\n",
    "\n",
    "report = classification_report(y_test, y_pred, target_names=['Background', 'Drone'])\n",
    "print(\"Classification Report:\\n\", report)"
   ]
  }
 ],
 "metadata": {
  "kernelspec": {
   "display_name": "gddrone",
   "language": "python",
   "name": "python3"
  },
  "language_info": {
   "codemirror_mode": {
    "name": "ipython",
    "version": 3
   },
   "file_extension": ".py",
   "mimetype": "text/x-python",
   "name": "python",
   "nbconvert_exporter": "python",
   "pygments_lexer": "ipython3",
   "version": "3.11.5"
  }
 },
 "nbformat": 4,
 "nbformat_minor": 5
}
